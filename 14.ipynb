{
 "cells": [
  {
   "cell_type": "markdown",
   "id": "71336eed-e19c-453f-870f-5e09bd7c181c",
   "metadata": {},
   "source": [
    "# Random Forest Regresyon Modeli Kurarak Bir Tahmin İşlemi Yapacağız. Örnek olarak, bir kullanıcının yaşını, gelirini ve harcadığı miktarı içeren bir veri seti oluşturalım."
   ]
  },
  {
   "cell_type": "code",
   "execution_count": 30,
   "id": "c057eecd-7a89-4579-9ed4-812c4e4ae734",
   "metadata": {},
   "outputs": [],
   "source": [
    "import numpy as np\n",
    "import pandas as pd\n",
    "import seaborn as sns\n",
    "import matplotlib.pyplot as plt\n",
    "from sklearn.ensemble import RandomForestRegressor\n",
    "from sklearn.model_selection import train_test_split, GridSearchCV\n",
    "from sklearn.metrics import r2_score, mean_squared_error"
   ]
  },
  {
   "cell_type": "code",
   "execution_count": 31,
   "id": "5a555764-1f63-4801-b643-d7fee7b44180",
   "metadata": {},
   "outputs": [
    {
     "data": {
      "text/html": [
       "<div>\n",
       "<style scoped>\n",
       "    .dataframe tbody tr th:only-of-type {\n",
       "        vertical-align: middle;\n",
       "    }\n",
       "\n",
       "    .dataframe tbody tr th {\n",
       "        vertical-align: top;\n",
       "    }\n",
       "\n",
       "    .dataframe thead th {\n",
       "        text-align: right;\n",
       "    }\n",
       "</style>\n",
       "<table border=\"1\" class=\"dataframe\">\n",
       "  <thead>\n",
       "    <tr style=\"text-align: right;\">\n",
       "      <th></th>\n",
       "      <th>Yaş</th>\n",
       "      <th>Gelir</th>\n",
       "      <th>Harcama</th>\n",
       "    </tr>\n",
       "  </thead>\n",
       "  <tbody>\n",
       "    <tr>\n",
       "      <th>0</th>\n",
       "      <td>22</td>\n",
       "      <td>2064</td>\n",
       "      <td>1385</td>\n",
       "    </tr>\n",
       "    <tr>\n",
       "      <th>1</th>\n",
       "      <td>45</td>\n",
       "      <td>2695</td>\n",
       "      <td>1607</td>\n",
       "    </tr>\n",
       "    <tr>\n",
       "      <th>2</th>\n",
       "      <td>47</td>\n",
       "      <td>2088</td>\n",
       "      <td>1772</td>\n",
       "    </tr>\n",
       "    <tr>\n",
       "      <th>3</th>\n",
       "      <td>50</td>\n",
       "      <td>3116</td>\n",
       "      <td>1163</td>\n",
       "    </tr>\n",
       "    <tr>\n",
       "      <th>4</th>\n",
       "      <td>46</td>\n",
       "      <td>4108</td>\n",
       "      <td>1728</td>\n",
       "    </tr>\n",
       "  </tbody>\n",
       "</table>\n",
       "</div>"
      ],
      "text/plain": [
       "   Yaş  Gelir  Harcama\n",
       "0   22   2064     1385\n",
       "1   45   2695     1607\n",
       "2   47   2088     1772\n",
       "3   50   3116     1163\n",
       "4   46   4108     1728"
      ]
     },
     "execution_count": 31,
     "metadata": {},
     "output_type": "execute_result"
    }
   ],
   "source": [
    "# Veri setini oluşturalım.\n",
    "\n",
    "age = np.random.randint(18, 65, size=100)\n",
    "income = np.random.randint(2000, 5000, size=100)\n",
    "spending = np.random.randint(1000, 2000, size=100)\n",
    "\n",
    "data = pd.DataFrame({\n",
    "    'Yaş': age,\n",
    "    'Gelir': income,\n",
    "    'Harcama': spending\n",
    "})\n",
    "data.head()"
   ]
  },
  {
   "cell_type": "code",
   "execution_count": null,
   "id": "d7384c77-3701-446e-9583-8fb52123f8d6",
   "metadata": {},
   "outputs": [],
   "source": []
  },
  {
   "cell_type": "markdown",
   "id": "104f57c7-cc04-4124-b9d2-ed5e353ae2a4",
   "metadata": {},
   "source": [
    "# Veri Analizi"
   ]
  },
  {
   "cell_type": "code",
   "execution_count": 32,
   "id": "bd68af52-b1eb-4023-b77d-9be0c820d3b4",
   "metadata": {},
   "outputs": [
    {
     "data": {
      "text/html": [
       "<div>\n",
       "<style scoped>\n",
       "    .dataframe tbody tr th:only-of-type {\n",
       "        vertical-align: middle;\n",
       "    }\n",
       "\n",
       "    .dataframe tbody tr th {\n",
       "        vertical-align: top;\n",
       "    }\n",
       "\n",
       "    .dataframe thead th {\n",
       "        text-align: right;\n",
       "    }\n",
       "</style>\n",
       "<table border=\"1\" class=\"dataframe\">\n",
       "  <thead>\n",
       "    <tr style=\"text-align: right;\">\n",
       "      <th></th>\n",
       "      <th>count</th>\n",
       "      <th>mean</th>\n",
       "      <th>std</th>\n",
       "      <th>min</th>\n",
       "      <th>25%</th>\n",
       "      <th>50%</th>\n",
       "      <th>75%</th>\n",
       "      <th>max</th>\n",
       "    </tr>\n",
       "  </thead>\n",
       "  <tbody>\n",
       "    <tr>\n",
       "      <th>Yaş</th>\n",
       "      <td>100.0</td>\n",
       "      <td>40.09</td>\n",
       "      <td>13.583334</td>\n",
       "      <td>18.0</td>\n",
       "      <td>27.75</td>\n",
       "      <td>38.5</td>\n",
       "      <td>51.00</td>\n",
       "      <td>64.0</td>\n",
       "    </tr>\n",
       "    <tr>\n",
       "      <th>Gelir</th>\n",
       "      <td>100.0</td>\n",
       "      <td>3429.39</td>\n",
       "      <td>901.380119</td>\n",
       "      <td>2006.0</td>\n",
       "      <td>2603.00</td>\n",
       "      <td>3345.0</td>\n",
       "      <td>4143.75</td>\n",
       "      <td>4988.0</td>\n",
       "    </tr>\n",
       "    <tr>\n",
       "      <th>Harcama</th>\n",
       "      <td>100.0</td>\n",
       "      <td>1543.23</td>\n",
       "      <td>284.072187</td>\n",
       "      <td>1014.0</td>\n",
       "      <td>1322.75</td>\n",
       "      <td>1594.0</td>\n",
       "      <td>1795.50</td>\n",
       "      <td>1979.0</td>\n",
       "    </tr>\n",
       "  </tbody>\n",
       "</table>\n",
       "</div>"
      ],
      "text/plain": [
       "         count     mean         std     min      25%     50%      75%     max\n",
       "Yaş      100.0    40.09   13.583334    18.0    27.75    38.5    51.00    64.0\n",
       "Gelir    100.0  3429.39  901.380119  2006.0  2603.00  3345.0  4143.75  4988.0\n",
       "Harcama  100.0  1543.23  284.072187  1014.0  1322.75  1594.0  1795.50  1979.0"
      ]
     },
     "execution_count": 32,
     "metadata": {},
     "output_type": "execute_result"
    }
   ],
   "source": [
    "data.describe().T"
   ]
  },
  {
   "cell_type": "code",
   "execution_count": 33,
   "id": "f4380f5a-a21d-4c32-ac04-ac669d524154",
   "metadata": {},
   "outputs": [
    {
     "name": "stdout",
     "output_type": "stream",
     "text": [
      "<class 'pandas.core.frame.DataFrame'>\n",
      "RangeIndex: 100 entries, 0 to 99\n",
      "Data columns (total 3 columns):\n",
      " #   Column   Non-Null Count  Dtype\n",
      "---  ------   --------------  -----\n",
      " 0   Yaş      100 non-null    int32\n",
      " 1   Gelir    100 non-null    int32\n",
      " 2   Harcama  100 non-null    int32\n",
      "dtypes: int32(3)\n",
      "memory usage: 1.3 KB\n"
     ]
    }
   ],
   "source": [
    "data.info()"
   ]
  },
  {
   "cell_type": "code",
   "execution_count": 34,
   "id": "b3542557-4238-40b8-9d1c-c5b51019af7f",
   "metadata": {},
   "outputs": [
    {
     "data": {
      "text/html": [
       "<div>\n",
       "<style scoped>\n",
       "    .dataframe tbody tr th:only-of-type {\n",
       "        vertical-align: middle;\n",
       "    }\n",
       "\n",
       "    .dataframe tbody tr th {\n",
       "        vertical-align: top;\n",
       "    }\n",
       "\n",
       "    .dataframe thead th {\n",
       "        text-align: right;\n",
       "    }\n",
       "</style>\n",
       "<table border=\"1\" class=\"dataframe\">\n",
       "  <thead>\n",
       "    <tr style=\"text-align: right;\">\n",
       "      <th></th>\n",
       "      <th>Yaş</th>\n",
       "      <th>Gelir</th>\n",
       "      <th>Harcama</th>\n",
       "    </tr>\n",
       "  </thead>\n",
       "  <tbody>\n",
       "    <tr>\n",
       "      <th>Yaş</th>\n",
       "      <td>1.000000</td>\n",
       "      <td>0.116667</td>\n",
       "      <td>-0.042698</td>\n",
       "    </tr>\n",
       "    <tr>\n",
       "      <th>Gelir</th>\n",
       "      <td>0.116667</td>\n",
       "      <td>1.000000</td>\n",
       "      <td>-0.177113</td>\n",
       "    </tr>\n",
       "    <tr>\n",
       "      <th>Harcama</th>\n",
       "      <td>-0.042698</td>\n",
       "      <td>-0.177113</td>\n",
       "      <td>1.000000</td>\n",
       "    </tr>\n",
       "  </tbody>\n",
       "</table>\n",
       "</div>"
      ],
      "text/plain": [
       "              Yaş     Gelir   Harcama\n",
       "Yaş      1.000000  0.116667 -0.042698\n",
       "Gelir    0.116667  1.000000 -0.177113\n",
       "Harcama -0.042698 -0.177113  1.000000"
      ]
     },
     "execution_count": 34,
     "metadata": {},
     "output_type": "execute_result"
    }
   ],
   "source": [
    "# Değişkenler arasındaki korelasyonun gözlenmesi\n",
    "data.corr()"
   ]
  },
  {
   "cell_type": "code",
   "execution_count": 35,
   "id": "e00b7cc2-b0e3-44c1-b6d1-134a6a9b8d82",
   "metadata": {},
   "outputs": [
    {
     "data": {
      "text/plain": [
       "Yaş           184.506970\n",
       "Gelir      812486.119091\n",
       "Harcama     80697.007172\n",
       "dtype: float64"
      ]
     },
     "execution_count": 35,
     "metadata": {},
     "output_type": "execute_result"
    }
   ],
   "source": [
    "# Varyansın Gözlenmesi\n",
    "data.var()"
   ]
  },
  {
   "cell_type": "code",
   "execution_count": 36,
   "id": "3a96d4a0-edeb-4da6-a6ba-69f861b2887c",
   "metadata": {},
   "outputs": [
    {
     "data": {
      "text/plain": [
       "Yaş        False\n",
       "Gelir      False\n",
       "Harcama    False\n",
       "dtype: bool"
      ]
     },
     "execution_count": 36,
     "metadata": {},
     "output_type": "execute_result"
    }
   ],
   "source": [
    "# Eksik Gözlem Analizi\n",
    "data.isnull().any()"
   ]
  },
  {
   "cell_type": "code",
   "execution_count": 37,
   "id": "1671a0d0-c56d-4db1-9444-23f3df8ec620",
   "metadata": {},
   "outputs": [
    {
     "data": {
      "image/png": "[encoded data removed]",
      "text/plain": [
       "<Figure size 432x288 with 1 Axes>"
      ]
     },
     "metadata": {
      "needs_background": "light"
     },
     "output_type": "display_data"
    }
   ],
   "source": [
    "# Aykırı Gözlem Analizi\n",
    "sns.boxplot(data=data);"
   ]
  },
  {
   "cell_type": "markdown",
   "id": "fda8edbb-a7b6-4f94-a25f-48d04485a63d",
   "metadata": {},
   "source": [
    "# Model"
   ]
  },
  {
   "cell_type": "code",
   "execution_count": 38,
   "id": "670f2047-72f4-48ec-af10-127051b7731a",
   "metadata": {},
   "outputs": [],
   "source": [
    "# Bağımlı ve bağımsız değişkenleri oluşturalım.\n",
    "\n",
    "X = data[['Yaş', 'Gelir']]\n",
    "y = data['Harcama']"
   ]
  },
  {
   "cell_type": "code",
   "execution_count": 39,
   "id": "b10c9c79-0811-46e6-8722-fac5858335bc",
   "metadata": {},
   "outputs": [],
   "source": [
    "# Eğitim ve test setlerini ayıralım.\n",
    "X_train, X_test, y_train, y_test = train_test_split(X, y, test_size=0.2, random_state=42)"
   ]
  },
  {
   "cell_type": "code",
   "execution_count": 40,
   "id": "1bcace14-003d-46db-bc9d-83f423b2f430",
   "metadata": {},
   "outputs": [
    {
     "data": {
      "text/plain": [
       "RandomForestRegressor()"
      ]
     },
     "execution_count": 40,
     "metadata": {},
     "output_type": "execute_result"
    }
   ],
   "source": [
    "# modeli oluşturalım ve eğitelim.\n",
    "model = RandomForestRegressor()\n",
    "model.fit(X_train, y_train)"
   ]
  },
  {
   "cell_type": "code",
   "execution_count": 41,
   "id": "32678a10-ee8a-41fb-824a-c29a76df4a77",
   "metadata": {},
   "outputs": [],
   "source": [
    "# Tahmin yapalım.\n",
    "predict = model.predict(X_test)"
   ]
  },
  {
   "cell_type": "code",
   "execution_count": 42,
   "id": "7a8539fa-7556-4031-83ad-c86974e1724a",
   "metadata": {},
   "outputs": [
    {
     "name": "stdout",
     "output_type": "stream",
     "text": [
      "R^2:  -0.2931663725220708\n",
      "MSE:  88478.63395000002\n",
      "RMSE:  297.4535828494927\n"
     ]
    }
   ],
   "source": [
    "# Modeli Değerlendirelim.\n",
    "r2 = r2_score(y_test, predict)\n",
    "mse = mean_squared_error(y_test, predict)\n",
    "rmse = np.sqrt(mse)\n",
    "\n",
    "print('R^2: ', r2)\n",
    "print('MSE: ', mse)\n",
    "print('RMSE: ', rmse)"
   ]
  },
  {
   "cell_type": "markdown",
   "id": "273dc45d-df35-42a4-ac80-1b04f912af1e",
   "metadata": {},
   "source": [
    "# Model Tuning"
   ]
  },
  {
   "cell_type": "code",
   "execution_count": 43,
   "id": "bddab4b7-fe1a-4427-a6e3-7faea88e39b3",
   "metadata": {},
   "outputs": [
    {
     "name": "stdout",
     "output_type": "stream",
     "text": [
      "Best Parameters:  {'max_depth': 3, 'max_features': 'sqrt', 'min_samples_leaf': 1, 'min_samples_split': 4, 'n_estimators': 100}\n"
     ]
    }
   ],
   "source": [
    "params = {\n",
    "    'max_depth': [3, 5, 7, 9],\n",
    "    'n_estimators': [50, 100, 200, 300],\n",
    "    'min_samples_split': [2, 4, 6, 8],\n",
    "    'min_samples_leaf': [1, 2, 3, 4],\n",
    "    'max_features': ['auto', 'sqrt', 'log2']\n",
    "}\n",
    "\n",
    "grid = GridSearchCV(estimator=model, param_grid=params, cv=5)\n",
    "grid.fit(X_train, y_train)\n",
    "\n",
    "best_params = grid.best_params_\n",
    "print('Best Parameters: ', best_params)"
   ]
  },
  {
   "cell_type": "markdown",
   "id": "60857904-5d9a-4189-a07c-64dcb3429fc0",
   "metadata": {},
   "source": [
    "## Elde ettiğimiz hiperparametreleri kullanarak modelimizi tekrar kuralım."
   ]
  },
  {
   "cell_type": "code",
   "execution_count": 44,
   "id": "d89b0f60-0e84-4f49-993a-bd6aef558d82",
   "metadata": {},
   "outputs": [],
   "source": [
    "model = RandomForestRegressor(**best_params).fit(X_train, y_train)"
   ]
  },
  {
   "cell_type": "code",
   "execution_count": 45,
   "id": "9b331fbd-2edf-4122-9297-c97c11a7d41f",
   "metadata": {},
   "outputs": [],
   "source": [
    "predict = model.predict(X_test)"
   ]
  },
  {
   "cell_type": "code",
   "execution_count": 46,
   "id": "48f4773f-d066-4122-85bf-ba9872da960e",
   "metadata": {},
   "outputs": [
    {
     "name": "stdout",
     "output_type": "stream",
     "text": [
      "R^2:  -0.2689623762561486\n",
      "MSE:  86822.59295539618\n",
      "RMSE:  294.65673750212494\n"
     ]
    }
   ],
   "source": [
    "r2 = r2_score(y_test, predict)\n",
    "mse = mean_squared_error(y_test, predict)\n",
    "rmse = np.sqrt(mse)\n",
    "print('R^2: ', r2)\n",
    "print('MSE: ', mse)\n",
    "print('RMSE: ', rmse)"
   ]
  },
  {
   "cell_type": "markdown",
   "id": "5aa979c8-dcdb-4e11-9cd6-ce8214cacc1f",
   "metadata": {},
   "source": [
    "# Tahmin"
   ]
  },
  {
   "cell_type": "code",
   "execution_count": 48,
   "id": "86fe9581-ec7f-490a-a5dd-76c7e0757da0",
   "metadata": {},
   "outputs": [
    {
     "data": {
      "text/html": [
       "<div>\n",
       "<style scoped>\n",
       "    .dataframe tbody tr th:only-of-type {\n",
       "        vertical-align: middle;\n",
       "    }\n",
       "\n",
       "    .dataframe tbody tr th {\n",
       "        vertical-align: top;\n",
       "    }\n",
       "\n",
       "    .dataframe thead th {\n",
       "        text-align: right;\n",
       "    }\n",
       "</style>\n",
       "<table border=\"1\" class=\"dataframe\">\n",
       "  <thead>\n",
       "    <tr style=\"text-align: right;\">\n",
       "      <th></th>\n",
       "      <th>Yaş</th>\n",
       "      <th>Gelir</th>\n",
       "      <th>Harcama</th>\n",
       "    </tr>\n",
       "  </thead>\n",
       "  <tbody>\n",
       "    <tr>\n",
       "      <th>0</th>\n",
       "      <td>22</td>\n",
       "      <td>2064</td>\n",
       "      <td>1385</td>\n",
       "    </tr>\n",
       "  </tbody>\n",
       "</table>\n",
       "</div>"
      ],
      "text/plain": [
       "   Yaş  Gelir  Harcama\n",
       "0   22   2064     1385"
      ]
     },
     "execution_count": 48,
     "metadata": {},
     "output_type": "execute_result"
    }
   ],
   "source": [
    "data.head(1)"
   ]
  },
  {
   "cell_type": "code",
   "execution_count": 49,
   "id": "c32a6064-478c-4e14-a786-a6b0660eed06",
   "metadata": {},
   "outputs": [
    {
     "name": "stdin",
     "output_type": "stream",
     "text": [
      "Lütfen Yaşınızı Giriniz:  23\n",
      "Lütfen Gelirinizi Giriniz:  10000\n"
     ]
    },
    {
     "name": "stdout",
     "output_type": "stream",
     "text": [
      "Tahmini Harcamanız:  1612\n"
     ]
    },
    {
     "name": "stderr",
     "output_type": "stream",
     "text": [
      "C:\\Users\\murat\\anaconda3\\lib\\site-packages\\sklearn\\base.py:450: UserWarning: X does not have valid feature names, but RandomForestRegressor was fitted with feature names\n",
      "  warnings.warn(\n"
     ]
    }
   ],
   "source": [
    "yas = int(input('Lütfen Yaşınızı Giriniz: '))\n",
    "gelir = int(input('Lütfen Gelirinizi Giriniz: '))\n",
    "\n",
    "user_pred = model.predict([[yas, gelir]])\n",
    "\n",
    "print('Tahmini Harcamanız: ', int(user_pred))"
   ]
  },
  {
   "cell_type": "markdown",
   "id": "016b6a39-bbf7-4036-a7d4-ad0e8b3879fa",
   "metadata": {},
   "source": [
    "# Sonuç\n",
    "\n",
    "### Üzerinde çalıştığımız veri setini kendimiz hazırladık. Bu yüzden gerçek hayat senaryosu değildir. Çıkan sonuçlar da bunu doğruluyor. Amacımız Random Forest Regresyon modelini, hiperparametreleri pratik etmektir. "
   ]
  }
 ],
 "metadata": {
  "kernelspec": {
   "display_name": "Python 3 (ipykernel)",
   "language": "python",
   "name": "python3"
  },
  "language_info": {
   "codemirror_mode": {
    "name": "ipython",
    "version": 3
   },
   "file_extension": ".py",
   "mimetype": "text/x-python",
   "name": "python",
   "nbconvert_exporter": "python",
   "pygments_lexer": "ipython3",
   "version": "3.9.12"
  }
 },
 "nbformat": 4,
 "nbformat_minor": 5
}
